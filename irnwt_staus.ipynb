{
 "cells": [
  {
   "cell_type": "code",
   "execution_count": 79,
   "metadata": {
    "collapsed": false
   },
   "outputs": [
    {
     "name": "stdout",
     "output_type": "stream",
     "text": [
      "TIME                  TSA-GNSS    TSB-GNSS    TSA-GPS    TSB_GPS\n",
      "2019-07-07-11-46-44  \u001b[93m -11.232\u001b[00m    \u001b[92m -8.8401\u001b[00m    \u001b[92m -9.11\u001b[00m      \u001b[92m -6.721\u001b[00m     "
     ]
    },
    {
     "ename": "KeyboardInterrupt",
     "evalue": "",
     "output_type": "error",
     "traceback": [
      "\u001b[0;31m---------------------------------------------------------------------------\u001b[0m",
      "\u001b[0;31mKeyboardInterrupt\u001b[0m                         Traceback (most recent call last)",
      "\u001b[0;32m<ipython-input-79-1c27dea5313d>\u001b[0m in \u001b[0;36m<module>\u001b[0;34m()\u001b[0m\n\u001b[1;32m     87\u001b[0m         \u001b[0;32melif\u001b[0m \u001b[0mabs\u001b[0m\u001b[0;34m(\u001b[0m\u001b[0mTSB_GPS\u001b[0m\u001b[0;34m)\u001b[0m \u001b[0;34m>\u001b[0m \u001b[0;36m20\u001b[0m\u001b[0;34m:\u001b[0m\u001b[0;34m\u001b[0m\u001b[0m\n\u001b[1;32m     88\u001b[0m             \u001b[0mprRed\u001b[0m\u001b[0;34m(\u001b[0m\u001b[0mTSB_GPS\u001b[0m\u001b[0;34m)\u001b[0m\u001b[0;34m\u001b[0m\u001b[0m\n\u001b[0;32m---> 89\u001b[0;31m         \u001b[0msleep\u001b[0m\u001b[0;34m(\u001b[0m\u001b[0;36m60\u001b[0m\u001b[0;34m)\u001b[0m\u001b[0;34m\u001b[0m\u001b[0m\n\u001b[0m\u001b[1;32m     90\u001b[0m \u001b[0;34m\u001b[0m\u001b[0m\n",
      "\u001b[0;31mKeyboardInterrupt\u001b[0m: "
     ]
    }
   ],
   "source": [
    "\n",
    "def prRed(skk): \n",
    "    blank = ''\n",
    "    offset = 11 - len(str(skk)[:7])\n",
    "    blank += ' ' * offset\n",
    "    print(\"\\033[92m {}\\033[00m\" .format(str(skk)[:7]),end = blank) \n",
    "    #print(\"\\033[91m {}\\033[00m\" .format(str(skk)[:7]),end='    ') \n",
    "def prGreen(skk):\n",
    "    blank = ''\n",
    "    offset = 11 - len(str(skk)[:7])\n",
    "    blank += ' ' * offset\n",
    "    print(\"\\033[92m {}\\033[00m\" .format(str(skk)[:7]),end = blank) \n",
    "def prYellow(skk): \n",
    "    blank = ''\n",
    "    offset = 11 - len(str(skk)[:7])\n",
    "    blank += ' ' * offset\n",
    "    print(\"\\033[93m {}\\033[00m\" .format(str(skk)[:7]),end = blank) \n",
    "def clear_screen():\n",
    "    print(\"\\033c\")\n",
    "# In[22]:\n",
    "from datetime import datetime\n",
    "import configparser\n",
    "def fetch_file_configuration():\n",
    "    configParser = configparser.RawConfigParser() \n",
    "    ensconfig_path = '/home/shift/Desktop/ens_status/'\n",
    "    name_ensconfig = 'monitor_configfile.dat'\n",
    "    ensconfig_path = ensconfig_path + name_ensconfig\n",
    "    configParser.read(ensconfig_path)\n",
    "    log_directory = configParser.get('Configuration Settings','log_directory')\n",
    "    ens_logfile = configParser.get('Configuration Settings','ens_logfile')\n",
    "    irnswt_logfile = configParser.get('Configuration Settings','irnswt_logfile')\n",
    "    return(log_directory,ens_logfile,irnswt_logfile)\n",
    "\n",
    "\n",
    "# In[46]:\n",
    "\n",
    "from time import sleep\n",
    "import subprocess\n",
    "if __name__ == '__main__':\n",
    "    log_directory,_,irnswt_logfile = fetch_file_configuration()\n",
    "    irnwt_logfile = log_directory + irnswt_logfile\n",
    "    OUTPUT_HEADER ='TIME                  TSA-GNSS    TSB-GNSS    TSA-GPS    TSB_GPS'\n",
    "    print(OUTPUT_HEADER)\n",
    "    while True:\n",
    "        current_time =  str(datetime.now())[:19]\n",
    "        current_time = datetime.strptime(current_time,'%Y-%m-%d %H:%M:%S')\n",
    "        if int(current_time.minute) in [0,15,30,45]:\n",
    "            clear_screen()\n",
    "        else:\n",
    "            pass\n",
    "    \n",
    "        last_irnwt_status = subprocess.check_output(['tail', '-1', irnwt_logfile])\n",
    "        last_irnwt_status = last_irnwt_status.decode('utf-8')\n",
    "        last_irnwt_status = last_irnwt_status.split(',')\n",
    "        time_now = (last_irnwt_status[0]).split(':')[1]\n",
    "        TSA_GNSS = float((last_irnwt_status[1]).split(':')[1])\n",
    "        TSB_GNSS = float((last_irnwt_status[2]).split(':')[1])\n",
    "        TSA_GPS     = float((last_irnwt_status[3]).split(':')[1])\n",
    "        TSB_GPS = float((last_irnwt_status[4]).split(':')[1])\n",
    "        print(time_now,end='  ')\n",
    "        \n",
    "        if abs(TSA_GNSS) <= 10:\n",
    "            prGreen(TSA_GNSS)\n",
    "        elif abs(TSA_GNSS) > 10 and abs(TSA_GNSS) <= 20 :\n",
    "            prYellow(TSA_GNSS)\n",
    "        elif abs(TSA_GNSS) > 20:\n",
    "            prRed(TSA_GNSS)\n",
    "\n",
    "        if abs(TSB_GNSS) <= 10:\n",
    "            prGreen(TSB_GNSS)\n",
    "        elif abs(TSB_GNSS) > 10 and abs(TSB_GNSS) <= 20 :\n",
    "            prYellow(TSB_GNSS)\n",
    "        elif abs(TSB_GNSS) > 20:\n",
    "            prRed(TSB_GNSS)\n",
    "    \n",
    "        if abs(TSA_GPS) <= 10:\n",
    "            prGreen(TSA_GPS)\n",
    "        elif abs(TSA_GPS) > 10 and abs(TSA_GPS) <= 20 :\n",
    "            prYellow(TSA_GPS)\n",
    "        elif abs(TSA_GPS) > 20:\n",
    "            prRed(TSA_GPS)\n",
    "    \n",
    "        if abs(TSB_GPS) <= 10:\n",
    "            prGreen(TSB_GPS)\n",
    "        elif abs(TSB_GPS) > 10 and abs(TSB_GPS) <= 20 :\n",
    "            prYellow(TSB_GPS)\n",
    "        elif abs(TSB_GPS) > 20:\n",
    "            prRed(TSB_GPS)\n",
    "        print()\n",
    "        sleep(60)\n",
    "        "
   ]
  },
  {
   "cell_type": "code",
   "execution_count": null,
   "metadata": {
    "collapsed": true
   },
   "outputs": [],
   "source": []
  }
 ],
 "metadata": {
  "anaconda-cloud": {},
  "kernelspec": {
   "display_name": "Python [conda root]",
   "language": "python",
   "name": "conda-root-py"
  },
  "language_info": {
   "codemirror_mode": {
    "name": "ipython",
    "version": 3
   },
   "file_extension": ".py",
   "mimetype": "text/x-python",
   "name": "python",
   "nbconvert_exporter": "python",
   "pygments_lexer": "ipython3",
   "version": "3.5.2"
  }
 },
 "nbformat": 4,
 "nbformat_minor": 1
}
